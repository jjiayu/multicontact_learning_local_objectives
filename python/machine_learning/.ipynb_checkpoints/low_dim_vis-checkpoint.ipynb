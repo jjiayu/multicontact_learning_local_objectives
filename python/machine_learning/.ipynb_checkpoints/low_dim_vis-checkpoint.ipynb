{
 "cells": [
  {
   "cell_type": "code",
   "execution_count": 10,
   "metadata": {},
   "outputs": [
    {
     "name": "stdout",
     "output_type": "stream",
     "text": [
      "World Frame Shift:  StanceFoot\n",
      "Contact Location Representation Type:  FollowRectangelBorder\n",
      "Scaling Factor of Variables:  1\n",
      "Number of Preview Steps:  2\n"
     ]
    }
   ],
   "source": [
    "#Load Data\n",
    "\n",
    "import numpy as np\n",
    "import matplotlib.pyplot as plt\n",
    "import pickle\n",
    " \n",
    "#Load Datta set \n",
    "#Dataset filename \n",
    "dataset_file = \"/home/jiayu/Desktop/multicontact_learning_local_objectives/data/mix/DataSet/data.p\"\n",
    "\n",
    "dataset = pickle.load(open(dataset_file,\"rb\"))\n",
    "\n",
    "print(\"World Frame Shift: \", dataset[\"Shift_World_Frame_Type\"])\n",
    "print(\"Contact Location Representation Type: \",dataset[\"Contact_Representation_Type\"])\n",
    "print(\"Scaling Factor of Variables: \",dataset[\"VectorScaleFactor\"])\n",
    "print(\"Number of Preview Steps: \", dataset[\"NumPreviewSteps\"])\n",
    "\n",
    "#Test Train Split, for now No Test data\n",
    "#x_train, x_test, y_train, y_test = train_test_split(dataset[\"input\"], dataset[\"output\"], test_size = 0.01)\n",
    "X = dataset[\"input\"]\n",
    "y = dataset[\"output\"]"
   ]
  },
  {
   "cell_type": "code",
   "execution_count": 11,
   "metadata": {},
   "outputs": [
    {
     "name": "stdout",
     "output_type": "stream",
     "text": [
      "(160, 61)\n",
      "[[ 0.          0.1         0.75       ...  0.8        -0.5\n",
      "   0.06376697]\n",
      " [-0.02870855 -0.10462136  0.76722451 ...  1.04458154 -0.15041155\n",
      "  -0.24949403]\n",
      " [-0.03619409  0.10647605  0.69341027 ...  0.71787456 -0.5023922\n",
      "  -0.24949403]\n",
      " ...\n",
      " [-0.18321623 -0.1585789   0.7107925  ...  0.98314164 -0.19344859\n",
      "  -0.04185388]\n",
      " [-0.15846653  0.15891802  0.71686763 ...  0.71       -0.53853843\n",
      "   0.04185388]\n",
      " [-0.18359757 -0.05272586  0.75415758 ...  0.98348358 -0.18249004\n",
      "   0.04185388]]\n",
      "(160, 11)\n"
     ]
    }
   ],
   "source": [
    "print(X.shape)\n",
    "print(X)\n",
    "# (1000, 784)\n",
    "# 1000 Samples with 784 features\n",
    "\n",
    "print(y.shape)\n",
    "# (1000,)\n",
    "# 1000 labels\n",
    "#np.unique(y)\n",
    "# array(['0', '1', '2', '3', '4', '5', '6', '7', '8', '9'], dtype=object)\n",
    "# The 10 classes of the images"
   ]
  },
  {
   "cell_type": "code",
   "execution_count": 12,
   "metadata": {},
   "outputs": [],
   "source": [
    "from sklearn.manifold import TSNE\n",
    "model = TSNE(learning_rate=100)\n",
    "transformed = model.fit_transform(X)\n",
    "\n",
    "xs = transformed[:,0]\n",
    "ys = transformed[:,1]"
   ]
  },
  {
   "cell_type": "code",
   "execution_count": 15,
   "metadata": {},
   "outputs": [
    {
     "data": {
      "text/plain": [
       "<matplotlib.collections.PathCollection at 0x7f93d2d802e8>"
      ]
     },
     "execution_count": 15,
     "metadata": {},
     "output_type": "execute_result"
    },
    {
     "data": {
      "image/png": "[encoded data removed]",
      "text/plain": [
       "<Figure size 432x288 with 1 Axes>"
      ]
     },
     "metadata": {
      "needs_background": "light"
     },
     "output_type": "display_data"
    }
   ],
   "source": [
    "fig, ax = plt.subplots()\n",
    "ax.scatter(xs, ys, marker='o', linewidth = 5, color = 'b') \n",
    "#ax.scatter(xs[20:], ys[20:], marker='o', linewidth = 5, color = 'b') \n",
    "#ax.set_xlim(5,8)\n",
    "#ax.set_ylim(10,17)"
   ]
  }
 ],
 "metadata": {
  "kernelspec": {
   "display_name": "Python 3",
   "language": "python",
   "name": "python3"
  },
  "language_info": {
   "codemirror_mode": {
    "name": "ipython",
    "version": 3
   },
   "file_extension": ".py",
   "mimetype": "text/x-python",
   "name": "python",
   "nbconvert_exporter": "python",
   "pygments_lexer": "ipython3",
   "version": "3.6.10"
  }
 },
 "nbformat": 4,
 "nbformat_minor": 2
}
