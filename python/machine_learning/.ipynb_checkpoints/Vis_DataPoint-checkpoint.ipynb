{
 "cells": [
  {
   "cell_type": "code",
   "execution_count": 1,
   "metadata": {},
   "outputs": [
    {
     "name": "stdout",
     "output_type": "stream",
     "text": [
      "World Frame Shift:  StanceFoot\n",
      "Contact Location Representation Type:  FollowRectangelBorder\n",
      "Scaling Factor of Variables:  1.0\n",
      "Number of Preview Steps:  4\n"
     ]
    }
   ],
   "source": [
    "#Load Data\n",
    "\n",
    "import numpy as np\n",
    "import matplotlib.pyplot as plt\n",
    "import pickle\n",
    "\n",
    "import matplotlib as mpl\n",
    "mpl.rcParams['agg.path.chunksize'] = 1000000    \n",
    "\n",
    "#Load Datta set \n",
    "#Dataset filename \n",
    "dataset_file = \"/home/jiayu/Desktop/MLP_DataSet/Rubbles/DataSet/OriginalForm/data.p\"\n",
    "\n",
    "dataset = pickle.load(open(dataset_file,\"rb\"))\n",
    "\n",
    "print(\"World Frame Shift: \", dataset[\"Shift_World_Frame_Type\"])\n",
    "print(\"Contact Location Representation Type: \",dataset[\"Contact_Representation_Type\"])\n",
    "print(\"Scaling Factor of Variables: \",dataset[\"VectorScaleFactor\"])\n",
    "print(\"Number of Preview Steps: \", dataset[\"NumPreviewSteps\"])\n",
    "\n",
    "#Test Train Split, for now No Test data\n",
    "#x_train, x_test, y_train, y_test = train_test_split(dataset[\"input\"], dataset[\"output\"], test_size = 0.01)\n",
    "X = dataset[\"input\"]\n",
    "y = dataset[\"output\"]\n",
    "\n",
    "#print(X.max(axis=0))\n",
    "#print(X.min(axis=0))\n"
   ]
  },
  {
   "cell_type": "code",
   "execution_count": 2,
   "metadata": {},
   "outputs": [
    {
     "data": {
      "text/plain": [
       "<matplotlib.collections.PathCollection at 0x7f2a9cb68908>"
      ]
     },
     "execution_count": 2,
     "metadata": {},
     "output_type": "execute_result"
    },
    {
     "data": {
      "image/png": "[encoded data removed]",
      "text/plain": [
       "<Figure size 432x288 with 1 Axes>"
      ]
     },
     "metadata": {
      "needs_background": "light"
     },
     "output_type": "display_data"
    }
   ],
   "source": [
    "from sklearn.decomposition import PCA\n",
    "pca = PCA(n_components=2)\n",
    "principalComponents = pca.fit_transform(X)\n",
    "fig, ax = plt.subplots()\n",
    "ax.scatter(principalComponents[:,0], principalComponents[:,1], marker='o', linewidth = 0.01, color = 'b', alpha=0.002) "
   ]
  }
 ],
 "metadata": {
  "kernelspec": {
   "display_name": "Python 3",
   "language": "python",
   "name": "python3"
  },
  "language_info": {
   "codemirror_mode": {
    "name": "ipython",
    "version": 3
   },
   "file_extension": ".py",
   "mimetype": "text/x-python",
   "name": "python",
   "nbconvert_exporter": "python",
   "pygments_lexer": "ipython3",
   "version": "3.6.10"
  }
 },
 "nbformat": 4,
 "nbformat_minor": 4
}
