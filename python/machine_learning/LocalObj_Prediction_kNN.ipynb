{
 "cells": [
  {
   "cell_type": "code",
   "execution_count": 1,
   "metadata": {},
   "outputs": [
    {
     "name": "stdout",
     "output_type": "stream",
     "text": [
      "Double check the Path for storing trajectories is correct\n"
     ]
    }
   ],
   "source": [
    "#Import Packages\n",
    "import numpy as np\n",
    "import os\n",
    "import pickle\n",
    "from multicontact_learning_local_objectives.python.machine_learning.ml_utils import *\n",
    "import matplotlib.pyplot as plt #Matplotlib\n",
    "import shutil\n",
    "\n",
    "print(\"Double check the Path for storing trajectories is correct\")"
   ]
  },
  {
   "cell_type": "code",
   "execution_count": 2,
   "metadata": {},
   "outputs": [
    {
     "name": "stdout",
     "output_type": "stream",
     "text": [
      "Double Check we provide the Correct Traj Path: \n",
      " /home/jiayu/Desktop/MLP_DataSet/Rubbles/\n"
     ]
    }
   ],
   "source": [
    "#Define Path for Storing Trajectories\n",
    "#Collect Data Points Path\n",
    "#workingDirectory = \"/home/jiayu/Desktop/multicontact_learning_local_objectives/data/large_slope_flat_patches/\"\n",
    "#workingDirectory = \"/home/jiayu/Desktop/MLP_DataSet/Rubbles\"\n",
    "#workingDirectory = \"/home/jiayu/Desktop/MLP_DataSet/Rubbles_Standarized_Data/\"\n",
    "workingDirectory = \"/home/jiayu/Desktop/MLP_DataSet/Rubbles/\"\n",
    "#NOTE: need to have \"/\" at the end\n",
    "print(\"Double Check we provide the Correct Traj Path: \\n\", workingDirectory)\n",
    "\n",
    "#Define dataset folder\n",
    "#DataSetPath = workingDirectory + \"/DataSet/\" + \"Standarization\"\n",
    "#DataSetPath = workingDirectory + \"/DataSet_OriginalForm\"\n",
    "DataSetPath = workingDirectory + \"/DataSet/\"+\"MaxAbs\"\n",
    "\n",
    "#Path to store ML Model, create one if we dont have\n",
    "ML_Model_Path = workingDirectory + \"/ML_Models/\"\n",
    "if not (os.path.isdir(ML_Model_Path)):\n",
    "    os.mkdir(ML_Model_Path)\n"
   ]
  },
  {
   "cell_type": "code",
   "execution_count": 3,
   "metadata": {},
   "outputs": [],
   "source": [
    "#Learning Code\n",
    "from sklearn.model_selection import train_test_split\n",
    "import tensorflow as tf\n",
    "from tensorflow.keras.models import Sequential\n",
    "from tensorflow.keras.layers import Dense\n",
    "from sklearn.neighbors import KNeighborsRegressor"
   ]
  },
  {
   "cell_type": "code",
   "execution_count": 4,
   "metadata": {},
   "outputs": [
    {
     "name": "stdout",
     "output_type": "stream",
     "text": [
      "World Frame Shift:  StanceFoot\n",
      "Contact Location Representation Type:  FollowRectangelBorder\n",
      "Scaling Factor of Variables:  1\n",
      "Number of Preview Steps:  4\n",
      "Pre Process Mode:  MaxAbs\n"
     ]
    }
   ],
   "source": [
    "#Load DataSet File\n",
    "\n",
    "#dataset_file = DataSetPath + \"/data_rubbles\"+'.p'\n",
    "dataset_file = DataSetPath + \"/data\"+'.p'\n",
    "dataset = pickle.load(open(dataset_file,\"rb\"))\n",
    "\n",
    "print(\"World Frame Shift: \", dataset[\"Shift_World_Frame_Type\"])\n",
    "print(\"Contact Location Representation Type: \",dataset[\"Contact_Representation_Type\"])\n",
    "print(\"Scaling Factor of Variables: \",dataset[\"VectorScaleFactor\"])\n",
    "print(\"Number of Preview Steps: \", dataset[\"NumPreviewSteps\"])\n",
    "print(\"Pre Process Mode: \",dataset[\"PreProcessMode\"])"
   ]
  },
  {
   "cell_type": "code",
   "execution_count": 5,
   "metadata": {},
   "outputs": [
    {
     "name": "stdout",
     "output_type": "stream",
     "text": [
      "input dim:  85\n",
      "output dim: 11\n",
      " \n",
      "Inputs: \n",
      "Input Mean:  [-4.02629463e-01  7.15567103e-03  9.15109496e-01  3.89550847e-01\n",
      "  1.12374648e-02 -5.07501980e-03 -1.95048670e-03 -3.74361555e-03\n",
      "  7.21433185e-04 -8.38346728e-01  1.50332575e-04  9.70247892e-03\n",
      "  5.00000000e-01  5.92445028e-01  7.15301040e-01 -1.56373248e-04\n",
      " -5.94033041e-01  7.18817409e-01 -4.30810553e-04 -5.95708509e-01\n",
      "  2.15570654e-03  6.74540480e-04  5.92459967e-01  2.20184929e-03\n",
      "  1.22248936e-03 -2.14242343e-02  1.15694583e-02 -1.47883834e-03\n",
      " -7.10574410e-01  1.15578640e-02 -7.04677589e-04 -7.10535301e-01\n",
      " -7.07444509e-01 -1.35142539e-03 -2.12846786e-02 -7.07440929e-01\n",
      " -1.61305320e-03  7.31356222e-01  3.61740161e-01 -6.31418802e-04\n",
      " -2.51307425e-02  3.58108689e-01 -6.20403407e-04 -2.45435838e-02\n",
      " -3.50718068e-01 -4.35274697e-04  7.31287734e-01 -3.54072558e-01\n",
      " -4.46359275e-04  8.18043218e-01  5.22779909e-01  5.65523008e-04\n",
      "  5.89772902e-01  5.22788284e-01  6.07401896e-04  5.89689516e-01\n",
      " -5.18185670e-01  9.01942072e-04  8.18005199e-01 -5.18194072e-01\n",
      "  7.83378672e-04  8.44052523e-01  3.58129750e-01 -3.48298766e-04\n",
      "  7.31316673e-01  3.58117302e-01 -2.47257728e-04  7.31325997e-01\n",
      " -3.51235294e-01  1.18740337e-04  8.44057876e-01 -3.51008862e-01\n",
      "  1.79797206e-05  8.81198596e-01  5.23096266e-01  8.44708373e-04\n",
      "  8.14542238e-01  5.23080367e-01  1.24999470e-03  8.17629734e-01\n",
      " -5.15707294e-01  1.25345720e-03  8.82827580e-01 -5.15691430e-01\n",
      "  8.47235042e-04]\n",
      "Input Std:  [0.21872028 0.43375602 0.06564921 0.08652712 0.27629996 0.17728499\n",
      " 0.05019189 0.0464803  0.02529929 0.17018615 0.35814038 0.35434204\n",
      " 0.5        0.29616983 0.08332992 0.25742539 0.2861314  0.08371222\n",
      " 0.25813466 0.28686697 0.27237082 0.25802546 0.29609041 0.27246434\n",
      " 0.25681403 0.67395104 0.2798264  0.26044062 0.19797852 0.27987755\n",
      " 0.27116606 0.19795738 0.08289947 0.29343512 0.67387286 0.08288356\n",
      " 0.2630336  0.19354098 0.43928162 0.31676009 0.64127763 0.43488326\n",
      " 0.28937382 0.62082655 0.43118665 0.29689802 0.19358668 0.4352675\n",
      " 0.3242162  0.13385696 0.40954895 0.3831921  0.29352382 0.40955401\n",
      " 0.37221763 0.29356585 0.41112358 0.37326664 0.13387658 0.41111839\n",
      " 0.38527016 0.11125679 0.43488754 0.38992933 0.19354819 0.43489032\n",
      " 0.31898716 0.1935859  0.43182458 0.32249248 0.11127823 0.43155871\n",
      " 0.3926625  0.08633531 0.40983347 0.3802657  0.13327935 0.40981959\n",
      " 0.38410763 0.13378693 0.40913579 0.38454788 0.08649611 0.40915009\n",
      " 0.38112009]\n",
      "Input Max:  [ 0.20409821  1.          1.          1.          0.91495105  0.773277\n",
      "  0.9593467   0.68238438  1.          0.          1.          1.\n",
      "  1.          1.          1.          0.99152985 -0.22716065  1.\n",
      "  0.99152985 -0.22780698  0.9349201   0.99264038  1.          0.93980341\n",
      "  0.99264038  0.89266395  0.99014878  1.         -0.25016212  0.99014878\n",
      "  1.         -0.25016212 -0.4195399   0.99249161  0.89266395 -0.4195399\n",
      "  0.99249161  1.          1.          0.99722618  0.87859492  1.\n",
      "  0.99722618  0.8280082   0.29688496  0.99631141  1.          0.28976809\n",
      "  0.99631141  1.          1.          0.9955024   1.          1.\n",
      "  0.99265936  1.         -0.02737217  1.          1.         -0.02737217\n",
      "  0.9988265   1.          1.          0.99890094  1.          1.\n",
      "  0.99890094  1.          0.29125773  0.9974186   1.          0.29562729\n",
      "  0.9974186   1.          1.          1.          1.          1.\n",
      "  1.          1.         -0.02624197  0.99693457  1.         -0.02624197\n",
      "  0.99637653]\n",
      "Input Min:  [-1.         -0.97692817  0.74999942  0.         -1.         -1.\n",
      " -1.         -1.         -0.98457282 -1.         -0.99498945 -0.99784163\n",
      "  0.          0.16846929  0.41022004 -1.         -1.          0.41224513\n",
      " -1.         -1.         -1.         -1.          0.17266131 -1.\n",
      " -1.         -1.         -1.         -0.99485507 -1.         -1.\n",
      " -0.99882479 -1.         -1.         -1.         -1.         -1.\n",
      " -1.          0.42881214 -0.31378287 -1.         -1.         -0.31062165\n",
      " -1.         -1.         -1.         -1.          0.41969643 -1.\n",
      " -1.          0.6169375   0.02509385 -1.          0.16768094  0.02509385\n",
      " -1.          0.16661196 -1.         -0.99265936  0.61645011 -1.\n",
      " -1.          0.67257474 -0.31221752 -1.          0.4388879  -0.31221752\n",
      " -1.          0.43910306 -1.         -1.          0.67186527 -1.\n",
      " -1.          0.74818123  0.02509892 -0.99638161  0.61700434  0.02509892\n",
      " -0.99693877  0.61575636 -1.         -1.          0.74682128 -1.\n",
      " -1.        ]\n",
      " \n",
      "Output Mean:  [ 4.40661424e-01  4.05878849e-03  9.15060265e-01  4.02320049e-01\n",
      "  2.50666320e-03  3.83895225e-03 -2.04862059e-03 -3.86763537e-03\n",
      "  3.72641899e-04  6.32427119e-01  5.27344253e-01]\n",
      "Output Std:  [0.19539936 0.41374666 0.06563078 0.04803725 0.27079607 0.14272104\n",
      " 0.05073023 0.04744797 0.02305533 0.30095845 0.41500197]\n",
      "Output Max:  [1.         0.8938441  1.         1.         0.91164312 1.\n",
      " 0.94751135 0.63514598 1.         1.         1.        ]\n",
      "Output Min:  [-0.1283865  -1.          0.75        0.22911362 -1.         -0.57166079\n",
      " -1.         -1.         -0.98183958  0.23130108  0.06249058]\n"
     ]
    }
   ],
   "source": [
    "#Test Train Split, for now No Test data\n",
    "#x_train, x_test, y_train, y_test = train_test_split(dataset[\"input\"], dataset[\"output\"], test_size = 0.01)\n",
    "x_train = dataset[\"input\"]\n",
    "y_train = dataset[\"output\"]\n",
    "\n",
    "#Get Left Foot to see\n",
    "#x_train=x_train[::2]\n",
    "#y_train=y_train[::2]\n",
    "\n",
    "\n",
    "#Decide input and outpu dimensionality\n",
    "d_in = x_train[0].shape[0]\n",
    "print(\"input dim: \", d_in)\n",
    "d_out = y_train[0].shape[0]\n",
    "print(\"output dim:\", d_out)\n",
    "print(\" \")\n",
    "\n",
    "#Double check with mean and std\n",
    "print(\"Inputs: \")\n",
    "print(\"Input Mean: \", x_train.mean(axis=0))\n",
    "print(\"Input Std: \", x_train.std(axis=0))\n",
    "print(\"Input Max: \", x_train.max(axis=0))\n",
    "print(\"Input Min: \", x_train.min(axis=0))\n",
    "print(\" \")\n",
    "\n",
    "\n",
    "print(\"Output Mean: \", y_train.mean(axis=0))\n",
    "print(\"Output Std: \", y_train.std(axis=0))\n",
    "print(\"Output Max: \", y_train.max(axis=0))\n",
    "print(\"Output Min: \", y_train.min(axis=0))"
   ]
  },
  {
   "cell_type": "code",
   "execution_count": 6,
   "metadata": {},
   "outputs": [
    {
     "data": {
      "text/plain": [
       "KNeighborsRegressor()"
      ]
     },
     "execution_count": 6,
     "metadata": {},
     "output_type": "execute_result"
    }
   ],
   "source": [
    "#Build kNN\n",
    "K = 5 #number of neighbors\n",
    "knn = KNeighborsRegressor(K)\n",
    "\n",
    "#fit kNN\n",
    "knn.fit(x_train, y_train)"
   ]
  },
  {
   "cell_type": "code",
   "execution_count": 7,
   "metadata": {},
   "outputs": [
    {
     "name": "stdout",
     "output_type": "stream",
     "text": [
      "[-4.01157749e-01  6.81034247e-01  9.31168669e-01  4.53803804e-01\n",
      " -2.52448386e-01  7.23417586e-02  1.04711521e-06 -1.05721493e-07\n",
      " -4.05414244e-07 -9.56070690e-01  3.17949716e-01 -3.06829343e-01\n",
      "  1.00000000e+00  2.73399906e-01  7.51042313e-01 -3.57547705e-01\n",
      " -9.19070116e-01  7.54749897e-01 -3.57547705e-01 -9.21685103e-01\n",
      "  1.24612220e-01 -2.37963110e-01  2.73399906e-01  1.24612220e-01\n",
      " -2.37963110e-01  5.80010991e-01  1.38185854e-01 -1.79635940e-13\n",
      " -5.56672536e-01  1.38185854e-01 -1.32562773e-13 -5.56672536e-01\n",
      " -6.71565056e-01 -8.97374935e-14  5.80010991e-01 -6.71565056e-01\n",
      " -8.97374935e-14  9.09613652e-01  7.58811374e-01 -3.55636615e-01\n",
      "  5.55848055e-01  7.51166687e-01 -3.55636615e-01  5.38000731e-01\n",
      "  3.93869174e-02 -1.19290075e-01  9.09613652e-01  3.97621884e-02\n",
      " -1.19290075e-01  6.75976280e-01  5.29281028e-02 -3.64723503e-01\n",
      "  2.73303809e-01  6.30601585e-02  2.30783300e-02  2.73303809e-01\n",
      " -9.78980504e-01  4.97776347e-01  6.75976280e-01 -9.89145035e-01\n",
      " -1.69538667e-02  9.48111541e-01  7.45646338e-01 -5.68048382e-01\n",
      "  9.09613652e-01  7.45646338e-01 -5.68048382e-01  9.09613652e-01\n",
      "  4.49910723e-02  9.10646712e-02  9.48111541e-01  4.49636503e-02\n",
      "  9.10646712e-02  7.91072012e-01  6.66945543e-02  1.07014866e-01\n",
      "  6.73087216e-01  6.66945543e-02  1.52347914e-01  6.75645188e-01\n",
      " -9.88019276e-01 -1.52526392e-01  7.92539061e-01 -9.88019276e-01\n",
      " -1.07157124e-01]\n",
      "predicted result: \n",
      " [[ 1.36866782e-01  1.82358227e-01  7.48359699e-01  1.41064548e-01\n",
      "   1.09535697e-01 -1.60352597e-02  1.55062655e-05 -1.62326459e-05\n",
      "   3.43677886e-06  2.52806417e-01  1.16266025e-01]]\n",
      "true value: \n",
      " [[ 1.33561942e-01  1.80003224e-01  7.44470369e-01  1.48521400e-01\n",
      "   1.07059820e-01 -1.02048659e-02  1.54833590e-08 -2.14650793e-09\n",
      "  -2.10321207e-09  2.60922204e-01  1.34541852e-01]]\n",
      "diff: \n",
      " [[3.30484027e-03 2.35500247e-03 3.88933072e-03 7.45685172e-03\n",
      "  2.47587661e-03 5.83039379e-03 1.54907821e-05 1.62304993e-05\n",
      "  3.43888207e-06 8.11578738e-03 1.82758273e-02]]\n"
     ]
    }
   ],
   "source": [
    "#Show Prediction Result for Training\n",
    "from sklearn import preprocessing\n",
    "\n",
    "datapoint_num = 2\n",
    "y_pred_train = knn.predict((np.array([x_train[datapoint_num]])))\n",
    "\n",
    "print(x_train[datapoint_num])\n",
    "\n",
    "#Recover to original format\n",
    "if dataset[\"PreProcessMode\"] == \"OriginalForm\":\n",
    "    print(\"Data Kept Original Form, No need to transform back\")\n",
    "    pred_y_originalform = y_pred_train\n",
    "    true_y_originalform = y_train[datapoint_num]\n",
    "elif dataset[\"PreProcessMode\"] == \"Standarization\" or dataset[\"PreProcessMode\"] == \"MaxAbs\":\n",
    "    pred_y_originalform = dataset[\"Scaler_Y\"].inverse_transform(y_pred_train)\n",
    "    true_y_originalform = dataset[\"Scaler_Y\"].inverse_transform(np.array([y_train[datapoint_num]]))\n",
    "else:\n",
    "    raise Exception(\"Unknow Pre Process Mode\")\n",
    "\n",
    "\n",
    "print(\"predicted result: \\n\",pred_y_originalform)\n",
    "print(\"true value: \\n\",true_y_originalform)\n",
    "print(\"diff: \\n\", np.absolute(pred_y_originalform - true_y_originalform))"
   ]
  },
  {
   "cell_type": "code",
   "execution_count": null,
   "metadata": {},
   "outputs": [],
   "source": [
    "import matplotlib.pyplot as plt\n",
    "\n",
    "y_pred = knn.predict(x_train)\n",
    "\n",
    "\n",
    "if dataset[\"PreProcessMode\"] == \"OriginalForm\":\n",
    "    print(\"Data Kept Original Form, No need to transform back\")\n",
    "    y_pred_originalform = y_pred\n",
    "    y_true_originalform = y_train\n",
    "elif dataset[\"PreProcessMode\"] == \"Standarization\" or dataset[\"PreProcessMode\"] == \"MaxAbs\":\n",
    "    print(\"PreProcessing of: \", dataset[\"PreProcessMode\"])\n",
    "    y_pred_originalform = dataset[\"Scaler_Y\"].inverse_transform(y_pred)\n",
    "    y_true_originalform = dataset[\"Scaler_Y\"].inverse_transform(y_train)\n",
    "else:\n",
    "    raise Exception(\"Unknow Pre Process Mode\")\n",
    "\n",
    "#Compute Error\n",
    "err = np.linalg.norm(y_true_originalform-y_pred_originalform, axis=1)\n",
    "\n",
    "#Plot Histogram\n",
    "fig=plt.figure();   ax = fig.gca()\n",
    "plt.hist(err, bins=50, density = True, range = (0.0, 0.375))\n",
    "ax.set_xlabel(\"Normalised Error\")\n",
    "ax.set_xlim([-0.025,0.375])\n",
    "ax.set_ylabel(\"Percentage\")\n",
    "ax.set_ylim([-1,50])\n",
    "\n",
    "#### Sort the error\n",
    "\n",
    "err_sorted = np.sort(err)\n",
    "print(err_sorted[-300:])  # print the 100 biggest error\n",
    "\n",
    "print(\"Error Mean: \", err_sorted.mean())\n",
    "print(\"Error Std\", err_sorted.std())"
   ]
  }
 ],
 "metadata": {
  "interpreter": {
   "hash": "a501000252d127e7c27d83f75df0a57bca228f59033b739034a7cde4260d0152"
  },
  "kernelspec": {
   "display_name": "Python 3",
   "language": "python",
   "name": "python3"
  },
  "language_info": {
   "codemirror_mode": {
    "name": "ipython",
    "version": 3
   },
   "file_extension": ".py",
   "mimetype": "text/x-python",
   "name": "python",
   "nbconvert_exporter": "python",
   "pygments_lexer": "ipython3",
   "version": "3.6.10"
  }
 },
 "nbformat": 4,
 "nbformat_minor": 4
}
