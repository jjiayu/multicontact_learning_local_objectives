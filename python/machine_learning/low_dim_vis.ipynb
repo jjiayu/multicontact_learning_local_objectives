{
 "cells": [
  {
   "cell_type": "code",
   "execution_count": 1,
   "metadata": {},
   "outputs": [
    {
     "name": "stdout",
     "output_type": "stream",
     "text": [
      "World Frame Shift:  StanceFoot\n",
      "Contact Location Representation Type:  FollowRectangelBorder\n",
      "Scaling Factor of Variables:  1000.0\n",
      "Number of Preview Steps:  4\n"
     ]
    }
   ],
   "source": [
    "#Load Data\n",
    "\n",
    "import numpy as np\n",
    "import matplotlib.pyplot as plt\n",
    "import pickle\n",
    " \n",
    "#Load Datta set \n",
    "#Dataset filename \n",
    "dataset_file = \"/home/jiayu/Desktop/MLP_DataSet/Rubbles/DataSet/OriginalForm_mm/data.p\"\n",
    "\n",
    "dataset = pickle.load(open(dataset_file,\"rb\"))\n",
    "\n",
    "print(\"World Frame Shift: \", dataset[\"Shift_World_Frame_Type\"])\n",
    "print(\"Contact Location Representation Type: \",dataset[\"Contact_Representation_Type\"])\n",
    "print(\"Scaling Factor of Variables: \",dataset[\"VectorScaleFactor\"])\n",
    "print(\"Number of Preview Steps: \", dataset[\"NumPreviewSteps\"])\n",
    "\n",
    "#Test Train Split, for now No Test data\n",
    "#x_train, x_test, y_train, y_test = train_test_split(dataset[\"input\"], dataset[\"output\"], test_size = 0.01)\n",
    "X = dataset[\"input\"]\n",
    "y = dataset[\"output\"]"
   ]
  },
  {
   "cell_type": "code",
   "execution_count": 2,
   "metadata": {},
   "outputs": [
    {
     "name": "stdout",
     "output_type": "stream",
     "text": [
      "(115380, 85)\n",
      "[[   0.          100.          750.         ... 1350.\n",
      "  -900.           57.08284377]\n",
      " [-176.26058677  -48.52232723  794.19751799 ... 1598.87409848\n",
      "  -183.76929587   94.41517445]\n",
      " [-132.33703     190.30039894  699.56610051 ... 1312.90742157\n",
      "  -935.19272356   97.94002581]\n",
      " ...\n",
      " [-129.44696554  -29.60741485  679.76589089 ... 1586.19302495\n",
      "   -61.08987737    0.        ]\n",
      " [-118.37304648   91.53479699  718.85379263 ... 1308.21042766\n",
      "  -875.81250223    0.        ]\n",
      " [-276.73265952  -95.48530707  717.82770076 ... 1542.38502099\n",
      "   -60.51125331  333.1224923 ]]\n",
      "(115380, 11)\n"
     ]
    }
   ],
   "source": [
    "print(X.shape)\n",
    "print(X)\n",
    "# (1000, 784)\n",
    "# 1000 Samples with 784 features\n",
    "\n",
    "print(y.shape)\n",
    "# (1000,)\n",
    "# 1000 labels\n",
    "#np.unique(y)\n",
    "# array(['0', '1', '2', '3', '4', '5', '6', '7', '8', '9'], dtype=object)\n",
    "# The 10 classes of the images"
   ]
  },
  {
   "cell_type": "code",
   "execution_count": 3,
   "metadata": {},
   "outputs": [],
   "source": [
    "from sklearn.manifold import TSNE\n",
    "model = TSNE(learning_rate=100)\n",
    "transformed = model.fit_transform(X)\n",
    "\n",
    "xs = transformed[:,0]\n",
    "ys = transformed[:,1]"
   ]
  },
  {
   "cell_type": "code",
   "execution_count": 4,
   "metadata": {},
   "outputs": [
    {
     "data": {
      "text/plain": [
       "<matplotlib.collections.PathCollection at 0x7fab2fe67d68>"
      ]
     },
     "execution_count": 4,
     "metadata": {},
     "output_type": "execute_result"
    },
    {
     "data": {
      "image/png": "[encoded data removed]",
      "text/plain": [
       "<Figure size 432x288 with 1 Axes>"
      ]
     },
     "metadata": {
      "needs_background": "light"
     },
     "output_type": "display_data"
    }
   ],
   "source": [
    "fig, ax = plt.subplots()\n",
    "ax.scatter(xs, ys, marker='o', linewidth = 0.5, color = 'b') \n",
    "#ax.scatter(xs[20:], ys[20:], marker='o', linewidth = 5, color = 'b') \n",
    "#ax.set_xlim(-25,-12)\n",
    "#ax.set_ylim(-17,-3)"
   ]
  }
 ],
 "metadata": {
  "kernelspec": {
   "display_name": "Python 3",
   "language": "python",
   "name": "python3"
  },
  "language_info": {
   "codemirror_mode": {
    "name": "ipython",
    "version": 3
   },
   "file_extension": ".py",
   "mimetype": "text/x-python",
   "name": "python",
   "nbconvert_exporter": "python",
   "pygments_lexer": "ipython3",
   "version": "3.6.10"
  }
 },
 "nbformat": 4,
 "nbformat_minor": 2
}
