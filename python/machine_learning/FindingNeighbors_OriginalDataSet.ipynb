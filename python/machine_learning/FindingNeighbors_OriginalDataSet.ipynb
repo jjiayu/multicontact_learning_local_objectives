{
 "cells": [
  {
   "cell_type": "code",
   "execution_count": 1,
   "metadata": {},
   "outputs": [
    {
     "name": "stdout",
     "output_type": "stream",
     "text": [
      "Double check the Path for storing trajectories is correct\n"
     ]
    }
   ],
   "source": [
    "#Import Packages\n",
    "import numpy as np\n",
    "import os\n",
    "import pickle\n",
    "from multicontact_learning_local_objectives.python.machine_learning.ml_utils import *\n",
    "import matplotlib.pyplot as plt #Matplotlib\n",
    "import shutil\n",
    "\n",
    "print(\"Double check the Path for storing trajectories is correct\")"
   ]
  },
  {
   "cell_type": "code",
   "execution_count": 2,
   "metadata": {},
   "outputs": [
    {
     "name": "stdout",
     "output_type": "stream",
     "text": [
      "Double Check we provide the Correct Traj Path: \n",
      " /media/jiayu/Seagate/Rubbles_AddVarSteps_1StepbeforeFail_RemovebyClip\n"
     ]
    }
   ],
   "source": [
    "#Define Path for Storing Trajectories\n",
    "#Collect Data Points Path\n",
    "#workingDirectory = \"/home/jiayu/Desktop/multicontact_learning_local_objectives/data/large_slope_flat_patches/\"\n",
    "#workingDirectory = \"/media/jiayu/Seagate/Rubbles_Add2Step_Outlier3Sigma/\"\n",
    "#workingDirectory = \"/home/jiayu/Desktop/MLP_DataSet/Rubbles_Standarized_Data/\"\n",
    "workingDirectory = \"/media/jiayu/Seagate/Rubbles_AddVarSteps_1StepbeforeFail_RemovebyClip\"\n",
    "#NOTE: need to have \"/\" at the end\n",
    "print(\"Double Check we provide the Correct Traj Path: \\n\", workingDirectory)\n",
    "\n",
    "#Define dataset folder\n",
    "#DataSetPath = workingDirectory + \"/DataSet_Large_Standarized\"\n",
    "DataSetPath = workingDirectory + \"/DataSet/\"\n",
    "\n",
    "#Path to store ML Model, create one if we dont have\n",
    "ML_Model_Path = workingDirectory + \"/ML_Models/\"\n",
    "if not (os.path.isdir(ML_Model_Path)):\n",
    "    os.mkdir(ML_Model_Path)\n"
   ]
  },
  {
   "cell_type": "code",
   "execution_count": 3,
   "metadata": {},
   "outputs": [
    {
     "name": "stdout",
     "output_type": "stream",
     "text": [
      "Double Check we provide the Correct Traj Path: \n",
      " /media/jiayu/Seagate/Rubbles_AddVarSteps_1StepbeforeFail_RemovebyClip\n",
      "For dataset:  0\n",
      "DataSet Sizes: \n",
      "(12000, 85)\n",
      "(12000, 11)\n",
      "World Frame Shift:  StanceFoot\n",
      "Contact Location Representation Type:  FollowRectangelBorder\n",
      "Scaling Factor of Variables:  1.0\n",
      "Number of Preview Steps:  4\n",
      "Pre Process Mode:  OriginalForm\n",
      " \n",
      "Final Data Set Size\n",
      "(12000, 85)\n",
      "(12000, 11)\n",
      " \n"
     ]
    }
   ],
   "source": [
    "#Load DataSet Collective File\n",
    "\n",
    "print(\"Double Check we provide the Correct Traj Path: \\n\", workingDirectory)\n",
    "\n",
    "#Define dataset folder\n",
    "# TrainingSetPath = [workingDirectory + \"/DataSet/\"+\"TrainingSet_Initial\",\n",
    "#                    workingDirectory + \"/DataSet/\"+\"TrainingAug2Steps_1Time_KeepOutlier\"]\n",
    "\n",
    "TrainingSetPath = [workingDirectory + \"/DataSet/\"+\"TrainingSet_Initial\"]\n",
    "\n",
    "                \n",
    "\n",
    "#For training set\n",
    "for trainingset_idx in range(len(TrainingSetPath)):\n",
    "    trainingset_file = TrainingSetPath[trainingset_idx] + \"/data\"+'.p'\n",
    "    trainingset = pickle.load(open(trainingset_file,\"rb\"))\n",
    "    \n",
    "    print(\"For dataset: \", trainingset_idx)\n",
    "    print(\"DataSet Sizes: \")\n",
    "    \n",
    "    if trainingset_idx == 0:\n",
    "        x_train = trainingset[\"input\"]\n",
    "        y_train = trainingset[\"output\"]\n",
    "    else:\n",
    "        x_train = np.concatenate((x_train,trainingset[\"input\"]),axis=0)\n",
    "        y_train = np.concatenate((y_train,trainingset[\"output\"]),axis=0)\n",
    "    \n",
    "    print(x_train.shape)\n",
    "    print(y_train.shape)\n",
    "\n",
    "    print(\"World Frame Shift: \", trainingset[\"Shift_World_Frame_Type\"])\n",
    "    print(\"Contact Location Representation Type: \",trainingset[\"Contact_Representation_Type\"])\n",
    "    print(\"Scaling Factor of Variables: \",trainingset[\"VectorScaleFactor\"])\n",
    "    print(\"Number of Preview Steps: \", trainingset[\"NumPreviewSteps\"])\n",
    "    print(\"Pre Process Mode: \",trainingset[\"PreProcessMode\"])\n",
    "    print(\" \")\n",
    "\n",
    "print(\"Final Data Set Size\")\n",
    "print(x_train.shape)\n",
    "print(y_train.shape)\n",
    "print(\" \")"
   ]
  },
  {
   "cell_type": "code",
   "execution_count": 10,
   "metadata": {},
   "outputs": [
    {
     "name": "stdout",
     "output_type": "stream",
     "text": [
      "[[ 4696 10028]]\n",
      "[[1.03000895 1.0301316 ]]\n",
      "0.18935404931357422\n"
     ]
    }
   ],
   "source": [
    "#Finding the Neighbours\n",
    "from sklearn.neighbors import NearestNeighbors\n",
    "import numpy as np\n",
    "nbrs = NearestNeighbors(n_neighbors=2).fit(x_train)\n",
    "distances, indices = nbrs.kneighbors([x_train[7600,:]+np.array([0.3]*12 + [0]*73)])\n",
    "\n",
    "print(indices)\n",
    "print(distances)\n",
    "\n",
    "\n",
    "import numpy as np\n",
    "print(np.linalg.norm(x_train[7600,:]- x_train[4696,:]))"
   ]
  },
  {
   "cell_type": "code",
   "execution_count": 27,
   "metadata": {},
   "outputs": [
    {
     "name": "stdout",
     "output_type": "stream",
     "text": [
      "(12000,)\n",
      "0\n",
      "0.0\n",
      "0.0\n"
     ]
    }
   ],
   "source": [
    "#Brute force\n",
    "x_query = x_train[0,:]\n",
    "x_query_full = np.tile(x_query,(x_train.shape[0],1))\n",
    "\n",
    "diff = x_query_full - x_train\n",
    "\n",
    "distance = np.linalg.norm(diff,axis=1)\n",
    "\n",
    "dist_min = np.min(distance)\n",
    "dist_min_idx = np.argmin(distance)\n",
    "\n",
    "print(dist_min_idx)\n",
    "print(dist_min)\n",
    "print(distance[dist_min_idx])"
   ]
  }
 ],
 "metadata": {
  "kernelspec": {
   "display_name": "Python 3",
   "language": "python",
   "name": "python3"
  },
  "language_info": {
   "codemirror_mode": {
    "name": "ipython",
    "version": 3
   },
   "file_extension": ".py",
   "mimetype": "text/x-python",
   "name": "python",
   "nbconvert_exporter": "python",
   "pygments_lexer": "ipython3",
   "version": "3.6.10"
  }
 },
 "nbformat": 4,
 "nbformat_minor": 4
}
